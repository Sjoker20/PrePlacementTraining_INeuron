{
 "cells": [
  {
   "cell_type": "markdown",
   "id": "f94d8a35",
   "metadata": {},
   "source": [
    "1. Write a Python program to reverse a string without using any built-in string reversal functions.\n",
    "2. Implement a function to check if a given string is a palindrome.\n",
    "3. Write a program to find the largest element in a given list.\n",
    "4. Implement a function to count the occurrence of each element in a list.\n",
    "5. Write a Python program to find the second largest number in a list.\n",
    "6. Implement a function to remove duplicate elements from a list.\n",
    "7. Write a program to calculate the factorial of a given number.\n",
    "8. Implement a function to check if a given number is prime.\n",
    "9. Write a Python program to sort a list of integers in ascending order.\n",
    "10. Implement a function to find the sum of all numbers in a list.\n",
    "11. Write a program to find the common elements between two lists.\n",
    "12. Implement a function to check if a given string is an anagram of another string.\n",
    "13. Write a Python program to generate all permutations of a given string.\n",
    "14. Implement a function to calculate the Fibonacci sequence up to a given number of terms.\n",
    "15. Write a program to find the median of a list of numbers.\n",
    "16. Implement a function to check if a given list is sorted in non-decreasing order.\n",
    "17. Write a Python program to find the intersection of two lists.\n",
    "18. Implement a function to find the maximum subarray sum in a given list.\n",
    "19. Write a program to remove all vowels from a given string.\n",
    "20. Implement a function to reverse the order of words in a given sentence.\n",
    "21. Write a Python program to check if two strings are anagrams of each other.\n",
    "22. Implement a function to find the first non-repeating character in a string.\n",
    "23. Write a program to find the prime factors of a given number.\n",
    "24. Implement a function to check if a given number is a power of two.\n",
    "25. Write a Python program to merge two sorted lists into a single sorted list.\n",
    "26. Implement a function to find the mode of a list of numbers.\n",
    "27. Write a program to find the greatest common divisor (GCD) of two numbers.\n",
    "28. Implement a function to calculate the square root of a given number.\n",
    "29. Write a Python program to check if a given string is a valid palindrome ignoring\n",
    "non-alphanumeric characters.\n",
    "30. Implement a function to find the minimum element in a rotated sorted list.\n",
    "31. Write a program to find the sum of all even numbers in a list.\n",
    "32. Implement a function to calculate the power of a number using recursion.\n",
    "33. Write a Python program to remove duplicates from a list while preserving the order.\n",
    "34. Implement a function to find the longest common prefix among a list of strings.\n",
    "35. Write a program to check if a given number is a perfect square.\n",
    "36. Implement a function to calculate the product of all elements in a list.\n",
    "37. Write a Python program to reverse the order of words in a sentence while preserving the\n",
    "word order.\n",
    "38. Implement a function to find the missing number in a given list of consecutive numbers.\n",
    "39. Write a program to find the sum of digits of a given number.\n",
    "40. Implement a function to check if a given string is a valid palindrome considering case\n",
    "sensitivity.\n",
    "41. Write a Python program to find the smallest missing positive integer in a list.\n",
    "42. Implement a function to find the longest palindrome substring in a given string.\n",
    "43. Write a program to find the number of occurrences of a given element in a list.\n",
    "44. Implement a function to check if a given number is a perfect number.\n",
    "45. Write a Python program to remove all duplicates from a string.\n",
    "46. Implement a function to find the first missing positive"
   ]
  },
  {
   "cell_type": "markdown",
   "id": "e14b11a3",
   "metadata": {},
   "source": [
    "1. Write a Python program to reverse a string without using any built-in string reversal functions."
   ]
  },
  {
   "cell_type": "code",
   "execution_count": 4,
   "id": "17751a9d",
   "metadata": {},
   "outputs": [
    {
     "name": "stdout",
     "output_type": "stream",
     "text": [
      "DOOBEE Doo word length\n",
      "htgnel drow ooD EEBOOD\n"
     ]
    }
   ],
   "source": [
    "class solution:\n",
    "    def revString(self):\n",
    "        word = input()\n",
    "        stri=''\n",
    "        for i in range(len(word)-1,-1,-1):\n",
    "            stri+=word[i]\n",
    "        return stri\n",
    "sol=solution()\n",
    "print(sol.revString())"
   ]
  },
  {
   "cell_type": "markdown",
   "id": "cc06098d",
   "metadata": {},
   "source": [
    "2. Implement a function to check if a given string is a palindrome."
   ]
  },
  {
   "cell_type": "code",
   "execution_count": 5,
   "id": "6714cb47",
   "metadata": {},
   "outputs": [
    {
     "name": "stdout",
     "output_type": "stream",
     "text": [
      "MAlayalam\n"
     ]
    },
    {
     "data": {
      "text/plain": [
       "'yes, a palindrome'"
      ]
     },
     "execution_count": 5,
     "metadata": {},
     "output_type": "execute_result"
    }
   ],
   "source": [
    "class check:\n",
    "    def palindrome(self):\n",
    "        word=input()\n",
    "        if word[::].lower()==word[::-1].lower():\n",
    "            return \"yes, a palindrome\"\n",
    "        else:\n",
    "            return \"Not a palindrome\"\n",
    "ch=check()\n",
    "ch.palindrome()"
   ]
  },
  {
   "cell_type": "markdown",
   "id": "416b2c23",
   "metadata": {},
   "source": [
    "3. Write a program to find the largest element in a given list."
   ]
  },
  {
   "cell_type": "code",
   "execution_count": 6,
   "id": "635387f8",
   "metadata": {},
   "outputs": [],
   "source": [
    "def larEle():\n",
    "    lst = list(map(int,input().split()))\n",
    "    t=lst[0]\n",
    "    for i in lst:\n",
    "        if t<i:\n",
    "            t=i\n",
    "    print(f'List elements are: {lst}')\n",
    "    return f'Largest element in the list is {t}'"
   ]
  },
  {
   "cell_type": "code",
   "execution_count": 7,
   "id": "63b4584e",
   "metadata": {},
   "outputs": [
    {
     "name": "stdout",
     "output_type": "stream",
     "text": [
      "32 12 0 -4 18 91 65 323 -2 4 1 21\n",
      "List elements are: [32, 12, 0, -4, 18, 91, 65, 323, -2, 4, 1, 21]\n",
      "Largest element in the list is 323\n"
     ]
    }
   ],
   "source": [
    "print(larEle())"
   ]
  },
  {
   "cell_type": "markdown",
   "id": "a179e541",
   "metadata": {},
   "source": [
    "4. Implement a function to count the occurrence of each element in a list."
   ]
  },
  {
   "cell_type": "code",
   "execution_count": 8,
   "id": "68280d2b",
   "metadata": {},
   "outputs": [],
   "source": [
    "def countEle():\n",
    "    lst=list(map(int,input().split()))\n",
    "    dict1={}\n",
    "    for i in lst:\n",
    "        if i in dict1:\n",
    "            dict1[i]+=1\n",
    "        else:\n",
    "            dict1[i]=1\n",
    "    print(dict1)\n",
    "    for k,v in dict1.items():\n",
    "        print(f\"{k} occures {v} times\")"
   ]
  },
  {
   "cell_type": "code",
   "execution_count": 9,
   "id": "57a72ada",
   "metadata": {},
   "outputs": [
    {
     "name": "stdout",
     "output_type": "stream",
     "text": [
      "1 1 1 1 3 3 3 3 2 2 4 5 1 2 3 1 6\n",
      "{1: 6, 3: 5, 2: 3, 4: 1, 5: 1, 6: 1}\n",
      "1 occures 6 times\n",
      "3 occures 5 times\n",
      "2 occures 3 times\n",
      "4 occures 1 times\n",
      "5 occures 1 times\n",
      "6 occures 1 times\n"
     ]
    }
   ],
   "source": [
    "countEle()"
   ]
  },
  {
   "cell_type": "markdown",
   "id": "afead1fc",
   "metadata": {},
   "source": [
    "5. Write a Python program to find the second largest number in a list."
   ]
  },
  {
   "cell_type": "code",
   "execution_count": 11,
   "id": "d019d6f2",
   "metadata": {},
   "outputs": [],
   "source": [
    "def secLargest():\n",
    "    lst=list(map(int,input().split()))\n",
    "    res=[]\n",
    "    while lst:\n",
    "        min=lst[0]\n",
    "        for i in lst:\n",
    "            if min>i:\n",
    "                min=i\n",
    "        res.append(min)\n",
    "        lst.remove(min)\n",
    "    return res[-2]"
   ]
  },
  {
   "cell_type": "code",
   "execution_count": 12,
   "id": "9566f140",
   "metadata": {},
   "outputs": [
    {
     "name": "stdout",
     "output_type": "stream",
     "text": [
      "1 2 3 4 5 6 7 -1 -3 0\n"
     ]
    },
    {
     "data": {
      "text/plain": [
       "6"
      ]
     },
     "execution_count": 12,
     "metadata": {},
     "output_type": "execute_result"
    }
   ],
   "source": [
    "secLargest()"
   ]
  },
  {
   "cell_type": "markdown",
   "id": "6c99033c",
   "metadata": {},
   "source": [
    "6. Implement a function to remove duplicate elements from a list."
   ]
  },
  {
   "cell_type": "code",
   "execution_count": 13,
   "id": "3d0b49af",
   "metadata": {},
   "outputs": [
    {
     "name": "stdout",
     "output_type": "stream",
     "text": [
      "The given list is: [1, 2, 3, 4, 3, 2, 5, 6, 5, 6, 7]\n",
      "After removing duplicate, the list is: [1, 2, 3, 4, 5, 6, 7]\n"
     ]
    }
   ],
   "source": [
    "def dupremoval():\n",
    "    list1 = [1,2,3,4,3,2,5,6,5,6,7]\n",
    "    print(f\"The given list is: {list1}\")\n",
    "    res=[]\n",
    "    [res.append(x) for x in list1 if x not in res]\n",
    "    \n",
    "    print(f\"After removing duplicate, the list is: {res}\")\n",
    "\n",
    "dupremoval()"
   ]
  },
  {
   "cell_type": "markdown",
   "id": "b790ee27",
   "metadata": {},
   "source": [
    "7. Write a program to calculate the factorial of a given number."
   ]
  },
  {
   "cell_type": "code",
   "execution_count": 20,
   "id": "5bb71286",
   "metadata": {},
   "outputs": [],
   "source": [
    "def fact(num):\n",
    "    c=1\n",
    "    for i in range(1,num+1):\n",
    "        c=c*i\n",
    "    return f\"The factorial of given number:{num} is {c}\""
   ]
  },
  {
   "cell_type": "code",
   "execution_count": 21,
   "id": "061550e7",
   "metadata": {},
   "outputs": [
    {
     "data": {
      "text/plain": [
       "'The factorial of given number:5 is 120'"
      ]
     },
     "execution_count": 21,
     "metadata": {},
     "output_type": "execute_result"
    }
   ],
   "source": [
    "fact(5)"
   ]
  },
  {
   "cell_type": "markdown",
   "id": "158ecfc0",
   "metadata": {},
   "source": [
    "8.Implement a function to check if a given number is prime."
   ]
  },
  {
   "cell_type": "code",
   "execution_count": 35,
   "id": "b12f3a6e",
   "metadata": {},
   "outputs": [
    {
     "name": "stdout",
     "output_type": "stream",
     "text": [
      "Enter a number:- 7\n",
      "7 is a prime number\n"
     ]
    }
   ],
   "source": [
    "def ifPrime():\n",
    "    num=int(input(\"Enter a number:- \"))\n",
    "    f=False\n",
    "    \n",
    "    if num<=1:\n",
    "        print(\"Not a prime number\")\n",
    "    elif num>1:\n",
    "        for i in range(2,num):\n",
    "            if num%i==0:\n",
    "                f=True\n",
    "                break\n",
    "    if f:\n",
    "        print(f\"{num} is not a prime number\")\n",
    "    else:\n",
    "        print(f\"{num} is a prime number\")\n",
    "\n",
    "ifPrime()"
   ]
  },
  {
   "cell_type": "markdown",
   "id": "0a369864",
   "metadata": {},
   "source": [
    "9.Write a Python program to sort a list of integers in ascending order."
   ]
  },
  {
   "cell_type": "code",
   "execution_count": 2,
   "id": "1d3b44a1",
   "metadata": {},
   "outputs": [
    {
     "name": "stdout",
     "output_type": "stream",
     "text": [
      "0 1 2 3 48 98 23 -1 9\n",
      "List in ascending order: [-1, 0, 1, 2, 3, 9, 23, 48, 98]\n"
     ]
    }
   ],
   "source": [
    "def sortList():\n",
    "    list1 = list(map(int,input().split()))\n",
    "    t=0\n",
    "    for i in range(len(list1)):\n",
    "        for j in range(len(list1)):\n",
    "            if list1[i]<list1[j]:\n",
    "                t=list1[i]\n",
    "                list1[i]=list1[j]\n",
    "                list1[j]=t\n",
    "    print(f\"List in ascending order: {list1}\")\n",
    "\n",
    "sortList()"
   ]
  },
  {
   "cell_type": "markdown",
   "id": "bfcd306a",
   "metadata": {},
   "source": [
    "10.Implement a function to find the sum of all numbers in a list."
   ]
  },
  {
   "cell_type": "code",
   "execution_count": 3,
   "id": "310d1cb8",
   "metadata": {},
   "outputs": [
    {
     "name": "stdout",
     "output_type": "stream",
     "text": [
      "1 2 3 4 5 6 7 8 0 -1 -2 -3\n",
      "Sum of all elements in the list: [1, 2, 3, 4, 5, 6, 7, 8, 0, -1, -2, -3] is 30\n"
     ]
    }
   ],
   "source": [
    "def sumList():\n",
    "    lst=list(map(int,input().split()))\n",
    "    sum=0\n",
    "    for i in lst:\n",
    "        sum+=i\n",
    "    print(f\"Sum of all elements in the list: {lst} is {sum}\")\n",
    "\n",
    "sumList()"
   ]
  },
  {
   "cell_type": "markdown",
   "id": "6468ed96",
   "metadata": {},
   "source": [
    "11.Write a program to find the common elements between two lists."
   ]
  },
  {
   "cell_type": "code",
   "execution_count": 8,
   "id": "5f5e4f95",
   "metadata": {},
   "outputs": [
    {
     "name": "stdout",
     "output_type": "stream",
     "text": [
      "The common elements from [1, 2, 3, 4, 5, 6] and [2, 3, 4, 7, 8, 9] are:\n",
      "2 3 4 "
     ]
    }
   ],
   "source": [
    "list1 = [1,2,3,4,5,6]\n",
    "list2= [2,3,4,7,8,9]\n",
    "#Common elements = 2,3,4\n",
    "\n",
    "x= [i for i in list1 if i in list2]\n",
    "print(f\"The common elements from {list1} and {list2} are:\")\n",
    "for i in x:\n",
    "    print(i,end=' ')"
   ]
  },
  {
   "cell_type": "markdown",
   "id": "27c7c32e",
   "metadata": {},
   "source": [
    "12.Implement a function to check if a given string is an anagram of another string."
   ]
  },
  {
   "cell_type": "code",
   "execution_count": 37,
   "id": "8873c5bc",
   "metadata": {},
   "outputs": [
    {
     "name": "stdout",
     "output_type": "stream",
     "text": [
      "pop\n",
      "opp\n",
      "Yes, anagrams\n"
     ]
    }
   ],
   "source": [
    "def anagramStr():\n",
    "    str1 = input()\n",
    "    str2 = input()\n",
    "    if sorted(str1)==sorted(str2):\n",
    "        print(\"Yes, anagrams\")\n",
    "    else:\n",
    "        print(\"Not anagrams\")\n",
    "\n",
    "anagramStr()"
   ]
  },
  {
   "cell_type": "markdown",
   "id": "b45330f2",
   "metadata": {},
   "source": [
    "13.Write a Python program to generate all permutations of a given string."
   ]
  },
  {
   "cell_type": "code",
   "execution_count": 42,
   "id": "c41d7e81",
   "metadata": {},
   "outputs": [
    {
     "name": "stdout",
     "output_type": "stream",
     "text": [
      "KUM\n",
      "KMU\n",
      "UKM\n",
      "UMK\n",
      "MUK\n",
      "MKU\n"
     ]
    }
   ],
   "source": [
    "def toString(list):\n",
    "    return ''.join(list)\n",
    "\n",
    "def allPermutation(s,l,p):#s=string,l=initial pointer & p=end pointer\n",
    "    if l==p:\n",
    "        print(toString(s))\n",
    "    else:\n",
    "        for i in range(l,p+1):\n",
    "            s[l],s[i]=s[i],s[l]\n",
    "            allPermutation(s,l+1,p)\n",
    "            s[l],s[i]=s[i],s[l]\n",
    "string = \"KUM\"\n",
    "n=len(string)\n",
    "s=list(string)\n",
    "allPermutation(s,0,n-1)"
   ]
  },
  {
   "cell_type": "markdown",
   "id": "c76d86db",
   "metadata": {},
   "source": [
    "14.Implement a function to calculate the Fibonacci sequence up to a given number of terms."
   ]
  },
  {
   "cell_type": "code",
   "execution_count": 55,
   "id": "e6aff5a3",
   "metadata": {},
   "outputs": [
    {
     "name": "stdout",
     "output_type": "stream",
     "text": [
      "Fibonacci Seq upto given sequence 5:-\n",
      "0 1 1 2 3 "
     ]
    }
   ],
   "source": [
    "def calFibo(n):\n",
    "    a,b=0,1\n",
    "    count=0\n",
    "    if n<0:\n",
    "        return \"Enter positive number.\"\n",
    "    elif n==0:\n",
    "        return 0\n",
    "    elif n==1:\n",
    "        return a,b\n",
    "    else:\n",
    "        print(f\"Fibonacci Seq upto given sequence {n}:-\")\n",
    "        while count<n:\n",
    "            print(a,end=' ')\n",
    "            c=a+b\n",
    "            a=b\n",
    "            b=c\n",
    "            count+=1\n",
    "            \n",
    "\n",
    "calFibo(5)"
   ]
  },
  {
   "cell_type": "markdown",
   "id": "c255c4fa",
   "metadata": {},
   "source": [
    "15.Write a program to find the median of a list of numbers."
   ]
  },
  {
   "cell_type": "code",
   "execution_count": 10,
   "id": "8c3323e1",
   "metadata": {},
   "outputs": [
    {
     "name": "stdout",
     "output_type": "stream",
     "text": [
      "1 2 3 4 5 8 9 90 10\n",
      "The given list is [1, 2, 3, 4, 5, 8, 9, 10, 90] which has 9 elements\n",
      "The median of the elements from the given list is: 5\n"
     ]
    }
   ],
   "source": [
    "def findMedian():\n",
    "    lst=list(map(int,input().split()))\n",
    "    lst=sorted(lst)\n",
    "    n=len(lst)\n",
    "    print(f\"The given list is {lst} which has {n} elements\")\n",
    "    if len(lst)%2==0:\n",
    "        median=( lst[n//2-1]+ lst[n//2] ) /2\n",
    "    else:\n",
    "        median = lst[n//2]\n",
    "    return f\"The median of the elements from the given list is: {median}\"\n",
    "\n",
    "print(findMedian())\n",
    "        "
   ]
  },
  {
   "cell_type": "markdown",
   "id": "54489a4a",
   "metadata": {},
   "source": [
    "16.Implement a function to check if a given list is sorted in non-decreasing order."
   ]
  },
  {
   "cell_type": "code",
   "execution_count": 15,
   "id": "b45bacad",
   "metadata": {},
   "outputs": [
    {
     "name": "stdout",
     "output_type": "stream",
     "text": [
      "1 2 3 4 5 6\n",
      "Yes\n"
     ]
    }
   ],
   "source": [
    "def checkDec():\n",
    "    lst=list(map(int,input().split()))\n",
    "    f=0\n",
    "    if lst==sorted(lst):\n",
    "        f=1\n",
    "    if f:\n",
    "        print(\"Yes\")\n",
    "    else:\n",
    "        print(\"No\")\n",
    "\n",
    "checkDec()"
   ]
  },
  {
   "cell_type": "markdown",
   "id": "2d51f948",
   "metadata": {},
   "source": [
    "17.Write a Python program to find the intersection of two lists."
   ]
  },
  {
   "cell_type": "code",
   "execution_count": 19,
   "id": "9b626eab",
   "metadata": {},
   "outputs": [
    {
     "name": "stdout",
     "output_type": "stream",
     "text": [
      "1 2 3 4 5\n",
      "2 3 4 5 6 7 8\n",
      "[2, 3, 4, 5]\n"
     ]
    }
   ],
   "source": [
    "def findIntersection():\n",
    "    lst1=list(map(int,input().split()))\n",
    "    lst2=list(map(int,input().split()))\n",
    "    count=[]\n",
    "    count=[x for x in lst1 if x in lst2]\n",
    "    print(count)\n",
    "findIntersection()"
   ]
  },
  {
   "cell_type": "markdown",
   "id": "e085e24d",
   "metadata": {},
   "source": [
    "18.Implement a function to find the maximum subarray sum in a given list."
   ]
  },
  {
   "cell_type": "code",
   "execution_count": 22,
   "id": "ad557ea1",
   "metadata": {},
   "outputs": [
    {
     "name": "stdout",
     "output_type": "stream",
     "text": [
      "[-2, 1, -2, 7, 5, 7, 8, 3, 7]\n",
      "8\n"
     ]
    }
   ],
   "source": [
    "class Solution(object):\n",
    "    def maxSubArray(self, nums):\n",
    "        dp = [0 for i in range(len(nums))]\n",
    "        dp[0] = nums[0]\n",
    "        for i in range(1,len(nums)):\n",
    "            dp[i] = max(dp[i-1]+nums[i],nums[i])\n",
    "        print(dp)\n",
    "        return max(dp)\n",
    "nums = [-2,1,-3,7,-2,2,1,-5,4]\n",
    "ob1 = Solution()\n",
    "print(ob1.maxSubArray(nums))"
   ]
  },
  {
   "cell_type": "markdown",
   "id": "2e9d81ff",
   "metadata": {},
   "source": [
    "19.Write a program to remove all vowels from a given string."
   ]
  },
  {
   "cell_type": "code",
   "execution_count": 7,
   "id": "74a4772a",
   "metadata": {},
   "outputs": [
    {
     "name": "stdout",
     "output_type": "stream",
     "text": [
      "aeiouy\n",
      "y\n"
     ]
    }
   ],
   "source": [
    "def removeVowels():\n",
    "    vowels=['a','e','i','o','u']\n",
    "    string=list(input().lower())\n",
    "    result=[char for char in string if char not in vowels]\n",
    "    result=''.join(result)\n",
    "    print(result)\n",
    "            \n",
    "    \n",
    "\n",
    "removeVowels()"
   ]
  },
  {
   "cell_type": "markdown",
   "id": "afc16ae2",
   "metadata": {},
   "source": [
    "20.Implement a function to reverse the order of words in a given sentence."
   ]
  },
  {
   "cell_type": "code",
   "execution_count": 26,
   "id": "849922f9",
   "metadata": {},
   "outputs": [
    {
     "name": "stdout",
     "output_type": "stream",
     "text": [
      "My name is Shanu\n"
     ]
    }
   ],
   "source": [
    "def reverseOrderOfString(x):\n",
    "    s = string.split()[::-1]\n",
    "    l = []\n",
    "    for i in s:\n",
    "        l.append(i)\n",
    "    print(\" \".join(l))\n",
    "    \n",
    "string = \"Shanu is name My\"\n",
    "reverseOrderOfString(string)"
   ]
  },
  {
   "cell_type": "markdown",
   "id": "7a5ca560",
   "metadata": {},
   "source": [
    "21. Write a Python program to check if two strings are anagrams of each other."
   ]
  },
  {
   "cell_type": "code",
   "execution_count": null,
   "id": "8f2080d2",
   "metadata": {},
   "outputs": [],
   "source": []
  },
  {
   "cell_type": "markdown",
   "id": "7a9a5a71",
   "metadata": {},
   "source": [
    "22. Implement a function to find the first non-repeating character in a string."
   ]
  },
  {
   "cell_type": "code",
   "execution_count": null,
   "id": "e562fb69",
   "metadata": {},
   "outputs": [],
   "source": []
  },
  {
   "cell_type": "markdown",
   "id": "10180bff",
   "metadata": {},
   "source": [
    "23. Write a program to find the prime factors of a given number."
   ]
  },
  {
   "cell_type": "code",
   "execution_count": null,
   "id": "cbda81fc",
   "metadata": {},
   "outputs": [],
   "source": []
  },
  {
   "cell_type": "markdown",
   "id": "13386f1c",
   "metadata": {},
   "source": [
    "24. Implement a function to check if a given number is a power of two."
   ]
  },
  {
   "cell_type": "code",
   "execution_count": null,
   "id": "a3f5c3ab",
   "metadata": {},
   "outputs": [],
   "source": []
  },
  {
   "cell_type": "markdown",
   "id": "5aef7000",
   "metadata": {},
   "source": [
    "25. Write a Python program to merge two sorted lists into a single sorted list."
   ]
  },
  {
   "cell_type": "code",
   "execution_count": null,
   "id": "9accba88",
   "metadata": {},
   "outputs": [],
   "source": []
  },
  {
   "cell_type": "markdown",
   "id": "9a86fa2c",
   "metadata": {},
   "source": [
    "26. Implement a function to find the mode of a list of numbers."
   ]
  },
  {
   "cell_type": "code",
   "execution_count": null,
   "id": "2dd0ca2a",
   "metadata": {},
   "outputs": [],
   "source": []
  },
  {
   "cell_type": "markdown",
   "id": "1bafad01",
   "metadata": {},
   "source": [
    "27. Write a program to find the greatest common divisor (GCD) of two numbers."
   ]
  },
  {
   "cell_type": "code",
   "execution_count": null,
   "id": "2eaabc10",
   "metadata": {},
   "outputs": [],
   "source": []
  },
  {
   "cell_type": "markdown",
   "id": "49d27926",
   "metadata": {},
   "source": [
    "28. Implement a function to calculate the square root of a given number."
   ]
  },
  {
   "cell_type": "code",
   "execution_count": null,
   "id": "9a890069",
   "metadata": {},
   "outputs": [],
   "source": []
  },
  {
   "cell_type": "markdown",
   "id": "d17bcd94",
   "metadata": {},
   "source": [
    "29. Write a Python program to check if a given string is a valid palindrome ignoring non-alphanumeric characters."
   ]
  },
  {
   "cell_type": "code",
   "execution_count": null,
   "id": "b2cc55fb",
   "metadata": {},
   "outputs": [],
   "source": []
  },
  {
   "cell_type": "markdown",
   "id": "03740cf0",
   "metadata": {},
   "source": [
    "30. Implement a function to find the minimum element in a rotated sorted list."
   ]
  },
  {
   "cell_type": "code",
   "execution_count": null,
   "id": "bdabefab",
   "metadata": {},
   "outputs": [],
   "source": []
  },
  {
   "cell_type": "markdown",
   "id": "a33301c3",
   "metadata": {},
   "source": [
    "31. Write a program to find the sum of all even numbers in a list.\n",
    "32. Implement a function to calculate the power of a number using recursion.\n",
    "33. Write a Python program to remove duplicates from a list while preserving the order.\n",
    "34. Implement a function to find the longest common prefix among a list of strings.\n",
    "35. Write a program to check if a given number is a perfect square.\n",
    "36. Implement a function to calculate the product of all elements in a list.\n",
    "37. Write a Python program to reverse the order of words in a sentence while preserving the\n",
    "word order.\n",
    "38. Implement a function to find the missing number in a given list of consecutive numbers.\n",
    "39. Write a program to find the sum of digits of a given number.\n",
    "40. Implement a function to check if a given string is a valid palindrome considering case\n",
    "sensitivity.\n",
    "41. Write a Python program to find the smallest missing positive integer in a list.\n",
    "42. Implement a function to find the longest palindrome substring in a given string.\n",
    "43. Write a program to find the number of occurrences of a given element in a list.\n",
    "44. Implement a function to check if a given number is a perfect number.\n",
    "45. Write a Python program to remove all duplicates from a string.\n",
    "46. Implement a function to find the first missing positive"
   ]
  },
  {
   "cell_type": "code",
   "execution_count": null,
   "id": "165288c3",
   "metadata": {},
   "outputs": [],
   "source": []
  }
 ],
 "metadata": {
  "kernelspec": {
   "display_name": "Python 3 (ipykernel)",
   "language": "python",
   "name": "python3"
  },
  "language_info": {
   "codemirror_mode": {
    "name": "ipython",
    "version": 3
   },
   "file_extension": ".py",
   "mimetype": "text/x-python",
   "name": "python",
   "nbconvert_exporter": "python",
   "pygments_lexer": "ipython3",
   "version": "3.9.13"
  }
 },
 "nbformat": 4,
 "nbformat_minor": 5
}
