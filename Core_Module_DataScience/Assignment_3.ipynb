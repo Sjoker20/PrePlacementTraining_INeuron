{
 "cells": [
  {
   "cell_type": "code",
   "execution_count": 1,
   "id": "60f763fb",
   "metadata": {},
   "outputs": [],
   "source": [
    "import numpy as np\n",
    "import statistics as sts"
   ]
  },
  {
   "cell_type": "markdown",
   "id": "1c1a4edb",
   "metadata": {},
   "source": [
    "**1. Scenario: A company wants to analyze the sales performance of its products in different\n",
    "regions. They have collected the following data:**\n",
    "\n",
    "<aside>Region A: [10, 15, 12, 8, 14] </aside>\n",
    "<aside>Region B: [18, 20, 16, 22, 25]</aside>\n",
    "Calculate the mean sales for each region."
   ]
  },
  {
   "cell_type": "code",
   "execution_count": 2,
   "id": "3d8dc806",
   "metadata": {},
   "outputs": [],
   "source": [
    "Region_A= [10, 15, 12, 8, 14]\n",
    "Region_B= [18, 20, 16, 22, 25]\n",
    "\n",
    "def meanSales(sales):\n",
    "    s=0\n",
    "    count=len(sales)\n",
    "    for i in range(len(sales)):\n",
    "        s+=sales[i]\n",
    "        mean=round((s/count),2)\n",
    "    return f\"Mean sales in region {sales} is {mean}\"\n"
   ]
  },
  {
   "cell_type": "code",
   "execution_count": 3,
   "id": "11e2cfca",
   "metadata": {},
   "outputs": [
    {
     "data": {
      "text/plain": [
       "'Mean sales in region [10, 15, 12, 8, 14] is 11.8'"
      ]
     },
     "execution_count": 3,
     "metadata": {},
     "output_type": "execute_result"
    }
   ],
   "source": [
    "meanSales(Region_A)"
   ]
  },
  {
   "cell_type": "code",
   "execution_count": 4,
   "id": "fad4b6d4",
   "metadata": {},
   "outputs": [
    {
     "data": {
      "text/plain": [
       "'Mean sales in region [18, 20, 16, 22, 25] is 20.2'"
      ]
     },
     "execution_count": 4,
     "metadata": {},
     "output_type": "execute_result"
    }
   ],
   "source": [
    "meanSales(Region_B)"
   ]
  },
  {
   "cell_type": "markdown",
   "id": "74ae9241",
   "metadata": {},
   "source": [
    "**2. Scenario: A survey is conducted to measure customer satisfaction on a scale of 1 to 5. The\n",
    "data collected is as follows:**\n",
    "<aside>[4, 5, 2, 3, 5, 4, 3, 2, 4, 5] </aside>\n",
    "Calculate the mode of the survey responses."
   ]
  },
  {
   "cell_type": "code",
   "execution_count": 5,
   "id": "08bcf5e8",
   "metadata": {},
   "outputs": [
    {
     "name": "stdout",
     "output_type": "stream",
     "text": [
      "4\n"
     ]
    }
   ],
   "source": [
    "data=[4, 5, 2, 3, 5, 4, 3, 2, 4, 5]\n",
    "print(sts.mode(data))"
   ]
  },
  {
   "cell_type": "markdown",
   "id": "bec0aa24",
   "metadata": {},
   "source": [
    "**3. Scenario: A company wants to compare the salaries of two departments. The salary data for\n",
    "Department A and Department B are as follows:**\n",
    "<aside>Department A: [5000, 6000, 5500, 7000]</aside>\n",
    "<aside>Department B: [4500, 5500, 5800, 6000, 5200]</aside>\n",
    "Calculate the median salary for each department."
   ]
  },
  {
   "cell_type": "code",
   "execution_count": 6,
   "id": "b3b650c3",
   "metadata": {},
   "outputs": [
    {
     "name": "stdout",
     "output_type": "stream",
     "text": [
      "Median salary of Department_A is 5750.0\n",
      "Median salary of Department_B is 5500\n"
     ]
    }
   ],
   "source": [
    "Department_A= [5000, 6000, 5500, 7000]\n",
    "Department_B= [4500, 5500, 5800, 6000, 5200]\n",
    "print(f\"Median salary of Department_A is {sts.median(Department_A)}\")\n",
    "print(f\"Median salary of Department_B is {sts.median(Department_B)}\")"
   ]
  },
  {
   "cell_type": "markdown",
   "id": "c3ab0fcd",
   "metadata": {},
   "source": [
    "**4. Scenario: A data analyst wants to determine the variability in the daily stock prices of a\n",
    "company. The data collected is as follows:**\n",
    "<aside>[25.5, 24.8, 26.1, 25.3, 24.9]</aside>\n",
    "Calculate the range of the stock prices."
   ]
  },
  {
   "cell_type": "code",
   "execution_count": 7,
   "id": "898594b7",
   "metadata": {},
   "outputs": [
    {
     "name": "stdout",
     "output_type": "stream",
     "text": [
      "26.1 24.8\n",
      "Range of the given data is 1.3\n"
     ]
    }
   ],
   "source": [
    "data =[25.5, 24.8, 26.1, 25.3, 24.9]\n",
    "range1 = round((max(data)-min(data)),2)\n",
    "print(max(data),min(data))\n",
    "print(f\"Range of the given data is {range1}\")"
   ]
  },
  {
   "cell_type": "markdown",
   "id": "ffaa62ac",
   "metadata": {},
   "source": [
    "**5. Scenario: A study is conducted to compare the performance of two different teaching\n",
    "methods. The test scores of the students in each group are as follows:**\n",
    "<aside>Group A: [85, 90, 92, 88, 91]</aside>\n",
    "<aside>Group B: [82, 88, 90, 86, 87]</aside>\n",
    "Perform a t-test to determine if there is a significant difference in the mean scores between the\n",
    "two groups."
   ]
  },
  {
   "cell_type": "code",
   "execution_count": 8,
   "id": "492f9096",
   "metadata": {},
   "outputs": [
    {
     "data": {
      "text/plain": [
       "Ttest_indResult(statistic=1.4312528946642733, pvalue=0.19023970239078333)"
      ]
     },
     "execution_count": 8,
     "metadata": {},
     "output_type": "execute_result"
    }
   ],
   "source": [
    "import scipy.stats as sts\n",
    "import numpy as np\n",
    "\n",
    "groupA = np.array([85, 90, 92, 88, 91])\n",
    "groupB = np.array([82, 88, 90, 86, 87])\n",
    "\n",
    "sts.ttest_ind(a=groupA, b=groupB, equal_var=True)"
   ]
  },
  {
   "cell_type": "markdown",
   "id": "46d0a42e",
   "metadata": {},
   "source": [
    "Since the pValue is greater than 0.05, we cannnot reject the null hypothesis (\n",
    "which is \"assume that the there is no difference in the mean scores between the two group\")."
   ]
  },
  {
   "cell_type": "markdown",
   "id": "63a8fb2e",
   "metadata": {},
   "source": [
    "**6. Scenario: A company wants to analyze the relationship between advertising expenditure and\n",
    "sales. The data collected is as follows:**\n",
    "<aside>Advertising Expenditure (in thousands): [10, 15, 12, 8, 14]</aside>\n",
    "<aside>Sales (in thousands): [25, 30, 28, 20, 26]</aside>\n",
    "Calculate the correlation coefficient between advertising expenditure and sales."
   ]
  },
  {
   "cell_type": "code",
   "execution_count": 9,
   "id": "ac74ebda",
   "metadata": {},
   "outputs": [
    {
     "name": "stdout",
     "output_type": "stream",
     "text": [
      "Correlation coefficient between advertising expenditure and sales: [[1.         0.87575114]\n",
      " [0.87575114 1.        ]]\n"
     ]
    }
   ],
   "source": [
    "Adv_Exp = [10, 15, 12, 8, 14] #in thousands\n",
    "sales = [25, 30, 28, 20, 26] #in thousands\n",
    "corr_coef = np.corrcoef(Adv_Exp,sales)\n",
    "print(f\"Correlation coefficient between advertising expenditure and sales: {corr_coef}\")"
   ]
  },
  {
   "cell_type": "markdown",
   "id": "7ad784bc",
   "metadata": {},
   "source": [
    "**7. Scenario: A survey is conducted to measure the heights of a group of people. The data\n",
    "collected is as follows:**\n",
    "<aside>[160, 170, 165, 155, 175, 180, 170]</aside>\n",
    "Calculate the standard deviation of the heights."
   ]
  },
  {
   "cell_type": "code",
   "execution_count": 10,
   "id": "26a52b43",
   "metadata": {},
   "outputs": [
    {
     "name": "stdout",
     "output_type": "stream",
     "text": [
      "The standard deviation of the height data is :8.591246929842246\n"
     ]
    }
   ],
   "source": [
    "import statistics as sts\n",
    "data = [160, 170, 165, 155, 175, 180, 170]\n",
    "res=sts.stdev(data)\n",
    "print(f\"The standard deviation of the height data is :{res}\")"
   ]
  },
  {
   "cell_type": "markdown",
   "id": "56c2b230",
   "metadata": {},
   "source": [
    "**8. Scenario: A company wants to analyze the relationship between employee tenure and job\n",
    "satisfaction. The data collected is as follows:**\n",
    "<aside>Employee Tenure (in years): [2, 3, 5, 4, 6, 2, 4]</aside>\n",
    "<aside>Job Satisfaction (on a scale of 1 to 10): [7, 8, 6, 9, 5, 7, 6]</aside>\n",
    "Perform a linear regression analysis to predict job satisfaction based on employee tenure."
   ]
  },
  {
   "cell_type": "code",
   "execution_count": 11,
   "id": "d2029648",
   "metadata": {},
   "outputs": [
    {
     "name": "stdout",
     "output_type": "stream",
     "text": [
      "Estimated coefficients:\n",
      "b_0 = 8.59574468085106         \n",
      "b_1 = -0.46808510638297807\n"
     ]
    },
    {
     "data": {
      "image/png": "[encoded data removed]",
      "text/plain": [
       "<Figure size 640x480 with 1 Axes>"
      ]
     },
     "metadata": {},
     "output_type": "display_data"
    }
   ],
   "source": [
    "import numpy as np\n",
    "import matplotlib.pyplot as plt\n",
    "\n",
    "def estimate_coef(x, y):\n",
    "    # number of observations/points\n",
    "    n = np.size(x)\n",
    "\n",
    "    # mean of x and y vector\n",
    "    m_x = np.mean(x)\n",
    "    m_y = np.mean(y)\n",
    "\n",
    "    # calculating cross-deviation and deviation about x\n",
    "    SS_xy = np.sum(y*x) - n*m_y*m_x\n",
    "    SS_xx = np.sum(x*x) - n*m_x*m_x\n",
    "\n",
    "    # calculating regression coefficients\n",
    "    b_1 = SS_xy / SS_xx\n",
    "    b_0 = m_y - b_1*m_x\n",
    "\n",
    "    return (b_0, b_1)\n",
    "\n",
    "def plot_regression_line(x, y, b):\n",
    "    # plotting the actual points as scatter plot\n",
    "    plt.scatter(x, y, color = \"m\",\n",
    "            marker = \"o\", s = 30)\n",
    "\n",
    "    # predicted response vector\n",
    "    y_pred = b[0] + b[1]*x\n",
    "\n",
    "    # plotting the regression line\n",
    "    plt.plot(x, y_pred, color = \"g\")\n",
    "\n",
    "    # putting labels\n",
    "    plt.xlabel('x')\n",
    "    plt.ylabel('y')\n",
    "\n",
    "    # function to show plot\n",
    "    plt.show()\n",
    "\n",
    "def main():\n",
    "    # observations / data\n",
    "    Emp_Tenure = np.array([2, 3, 5, 4, 6, 2, 4])\n",
    "    Job_Satisfaction = np.array([7, 8, 6, 9, 5, 7, 6])\n",
    "\n",
    "    # estimating coefficients\n",
    "    b = estimate_coef(Emp_Tenure, Job_Satisfaction)\n",
    "    print(\"Estimated coefficients:\\nb_0 = {} \\\n",
    "        \\nb_1 = {}\".format(b[0], b[1]))\n",
    "\n",
    "    # plotting regression line\n",
    "    plot_regression_line(Emp_Tenure, Job_Satisfaction, b)\n",
    "\n",
    "if __name__ == \"__main__\":\n",
    "    main()\n"
   ]
  },
  {
   "cell_type": "markdown",
   "id": "503198f9",
   "metadata": {},
   "source": [
    "**9. Scenario: A study is conducted to compare the effectiveness of two different medications.\n",
    "The recovery times of the patients in each group are as follows:**\n",
    "<aside>Medication A: [10, 12, 14, 11, 13]</aside>\n",
    "<aside>Medication B: [15, 17, 16, 14, 18]</aside>\n",
    "Perform an analysis of variance (ANOVA) to determine if there is a significant difference in the\n",
    "mean recovery times between the two medications."
   ]
  },
  {
   "cell_type": "code",
   "execution_count": 12,
   "id": "c28f08f0",
   "metadata": {},
   "outputs": [
    {
     "data": {
      "text/plain": [
       "F_onewayResult(statistic=16.0, pvalue=0.003949772803445326)"
      ]
     },
     "execution_count": 12,
     "metadata": {},
     "output_type": "execute_result"
    }
   ],
   "source": [
    "from scipy.stats import f_oneway\n",
    "\n",
    "Medication_A= [10, 12, 14, 11, 13]\n",
    "Medication_B= [15, 17, 16, 14, 18]\n",
    "\n",
    "f_oneway(Medication_A, Medication_B)"
   ]
  },
  {
   "cell_type": "markdown",
   "id": "5353ce60",
   "metadata": {},
   "source": [
    "Since pValue is less than 0.05, we can say there is significant difference in the mean recovery times of the two medicines."
   ]
  },
  {
   "cell_type": "markdown",
   "id": "66a45558",
   "metadata": {},
   "source": [
    "**10. Scenario: A company wants to analyze customer feedback ratings on a scale of 1 to 10. The\n",
    "data collected is as follows:**\n",
    "<aside>[8, 9, 7, 6, 8, 10, 9, 8, 7, 8]</aside>\n",
    "Calculate the 75th percentile of the feedback ratings."
   ]
  },
  {
   "cell_type": "code",
   "execution_count": 13,
   "id": "dd769476",
   "metadata": {},
   "outputs": [
    {
     "name": "stdout",
     "output_type": "stream",
     "text": [
      "The 75th percentile is: 8.75\n"
     ]
    }
   ],
   "source": [
    "feedback_data = [8, 9, 7, 6, 8, 10, 9, 8, 7, 8]\n",
    "percent75th = np.percentile(feedback_data,75)\n",
    "print(f\"The 75th percentile is: {percent75th}\")"
   ]
  },
  {
   "cell_type": "markdown",
   "id": "2f947d7b",
   "metadata": {},
   "source": [
    "**11. Scenario: A quality control department wants to test the weight consistency of a product.\n",
    "The weights of a sample of products are as follows:**\n",
    "<aside>[10.2, 9.8, 10.0, 10.5, 10.3, 10.1]</aside>\n",
    "Perform a hypothesis test to determine if the mean weight differs significantly from 10 grams."
   ]
  },
  {
   "cell_type": "code",
   "execution_count": null,
   "id": "f9f89dbb",
   "metadata": {},
   "outputs": [],
   "source": []
  },
  {
   "cell_type": "markdown",
   "id": "dfa905e3",
   "metadata": {},
   "source": [
    "**12. Scenario: A company wants to analyze the click-through rates of two different website\n",
    "designs. The number of clicks for each design is as follows:**\n",
    "<aside>Design A: [100, 120, 110, 90, 95]</aside>\n",
    "<aside>Design B: [80, 85, 90, 95, 100]</aside>\n",
    "Perform a chi-square test to determine if there is a significant difference in the click-through\n",
    "rates between the two designs."
   ]
  },
  {
   "cell_type": "code",
   "execution_count": 14,
   "id": "a3657ea2",
   "metadata": {},
   "outputs": [
    {
     "name": "stdout",
     "output_type": "stream",
     "text": [
      "Null-Hypothesis : There is a significant difference in the click-through rates between the two designs\n",
      "P-Value is 0.19103526314060293\n",
      "Accept Null-hypothesis, hence there is a significant difference\n"
     ]
    }
   ],
   "source": [
    "from scipy.stats import chi2_contingency\n",
    "\n",
    "Design_A= [100, 120, 110, 90, 95]\n",
    "Design_B= [80, 85, 90, 95, 100]\n",
    "data = [Design_A,Design_B]\n",
    "\n",
    "Null_hypothesis = \"Null-Hypothesis : There is a significant difference in the click-through rates between the two designs\"\n",
    "print(Null_hypothesis)\n",
    "stat, p, dof, expected = chi2_contingency(data)\n",
    "alpha=0.05\n",
    "print(f\"P-Value is {p}\")\n",
    "if p<=alpha:\n",
    "    print(\"Reject Null-hypothesis, hence there is not a significant difference \")\n",
    "else:\n",
    "    print(\"Accept Null-hypothesis, hence there is a significant difference\")"
   ]
  },
  {
   "cell_type": "markdown",
   "id": "16e15d1f",
   "metadata": {},
   "source": [
    "**13. Scenario: A survey is conducted to measure customer satisfaction with a product on a scale\n",
    "of 1 to 10. The data collected is as follows:**\n",
    "<aside>[7, 9, 6, 8, 10, 7, 8, 9, 7, 8]</aside>\n",
    "Calculate the 95% confidence interval for the population mean satisfaction score."
   ]
  },
  {
   "cell_type": "code",
   "execution_count": 15,
   "id": "d955745c",
   "metadata": {},
   "outputs": [
    {
     "name": "stderr",
     "output_type": "stream",
     "text": [
      "C:\\Users\\kushanu\\AppData\\Local\\Temp\\ipykernel_22432\\42684450.py:8: DeprecationWarning: Use of keyword argument `alpha` for method `interval` is deprecated. Use first positional argument or keyword argument `confidence` instead.\n",
      "  st.t.interval(alpha=0.95, df=len(data)-1, loc=np.mean(data), scale=st.sem(data))\n"
     ]
    },
    {
     "data": {
      "text/plain": [
       "(7.043561120599888, 8.756438879400113)"
      ]
     },
     "execution_count": 15,
     "metadata": {},
     "output_type": "execute_result"
    }
   ],
   "source": [
    "import numpy as np\n",
    "import scipy.stats as st\n",
    "\n",
    "#define sample data\n",
    "data = [7, 9, 6, 8, 10, 7, 8, 9, 7, 8]\n",
    "\n",
    "#create 95% confidence interval for population mean weight\n",
    "st.t.interval(alpha=0.95, df=len(data)-1, loc=np.mean(data), scale=st.sem(data))"
   ]
  },
  {
   "cell_type": "markdown",
   "id": "4ffcc070",
   "metadata": {},
   "source": [
    "**14. Scenario: A company wants to analyze the effect of temperature on product performance.\n",
    "The data collected is as follows:**\n",
    "<aside>Temperature (in degrees Celsius): [20, 22, 23, 19, 21]</aside>\n",
    "<aside>Performance (on a scale of 1 to 10): [8, 7, 9, 6, 8]</aside>\n",
    "Perform a simple linear regression to predict performance based on temperature."
   ]
  },
  {
   "cell_type": "code",
   "execution_count": null,
   "id": "516927f7",
   "metadata": {},
   "outputs": [],
   "source": []
  },
  {
   "cell_type": "markdown",
   "id": "97f1910d",
   "metadata": {},
   "source": [
    "**15. Scenario: A study is conducted to compare the preferences of two groups of participants.\n",
    "The preferences are measured on a Likert scale from 1 to 5. The data collected is as follows:**\n",
    "<aside>Group A: [4, 3, 5, 2, 4]</aside>\n",
    "<aside>Group B: [3, 2, 4, 3, 3]</aside>\n",
    "Perform a Mann-Whitney U test to determine if there is a significant difference in the median\n",
    "preferences between the two groups."
   ]
  },
  {
   "cell_type": "code",
   "execution_count": 16,
   "id": "e3ea85bb",
   "metadata": {},
   "outputs": [
    {
     "name": "stdout",
     "output_type": "stream",
     "text": [
      "Statistics=20.50, p=0.11\n",
      "P-Value is 0.19103526314060293\n",
      "Do not Reject Null Hypothesis (No significant difference in the median preferences between the two groups)\n"
     ]
    }
   ],
   "source": [
    "from scipy.stats import mannwhitneyu\n",
    "\n",
    "Group_A= [100, 120, 110, 90, 95]\n",
    "Group_B= [80, 85, 90, 95, 100]\n",
    "data = [Design_A,Design_B]\n",
    "\n",
    "stat, p_value = mannwhitneyu(Group_A,Group_B)\n",
    "print('Statistics=%.2f, p=%.2f' % (stat, p_value))\n",
    "\n",
    "alpha=0.05\n",
    "print(f\"P-Value is {p}\")\n",
    "if p_value < alpha:\n",
    "    print('Reject Null Hypothesis (Significant difference in the median preferences between the two groups)')\n",
    "else:\n",
    "    print('Do not Reject Null Hypothesis (No significant difference in the median preferences between the two groups)')"
   ]
  },
  {
   "cell_type": "markdown",
   "id": "6025c910",
   "metadata": {},
   "source": [
    "**16. Scenario: A company wants to analyze the distribution of customer ages. The data collected\n",
    "is as follows:**\n",
    "<aside>[25, 30, 35, 40, 45, 50, 55, 60, 65, 70]</aside>\n",
    "Calculate the interquartile range (IQR) of the ages."
   ]
  },
  {
   "cell_type": "code",
   "execution_count": 17,
   "id": "c9ed182b",
   "metadata": {},
   "outputs": [
    {
     "name": "stdout",
     "output_type": "stream",
     "text": [
      "IQR of the given data is 20.0\n"
     ]
    }
   ],
   "source": [
    "from scipy import stats\n",
    "data = [25, 30, 35, 40, 45, 50, 55, 60, 65, 70]\n",
    "IQR = stats.iqr(data, interpolation = 'midpoint')\n",
    "print(\"IQR of the given data is {0}\".format(IQR))"
   ]
  },
  {
   "cell_type": "markdown",
   "id": "be0601c3",
   "metadata": {},
   "source": [
    "**17. Scenario: A study is conducted to compare the performance of three different machine\n",
    "learning algorithms. The accuracy scores for each algorithm are as follows:**\n",
    "<aside>Algorithm A: [0.85, 0.80, 0.82, 0.87, 0.83]</aside>\n",
    "<aside>Algorithm B: [0.78, 0.82, 0.84, 0.80, 0.79]</aside>\n",
    "<aside>Algorithm C: [0.90, 0.88, 0.89, 0.86, 0.87]</aside>\n",
    "Perform a Kruskal-Wallis test to determine if there is a significant difference in the median\n",
    "accuracy scores between the algorithms."
   ]
  },
  {
   "cell_type": "code",
   "execution_count": 18,
   "id": "855f95f4",
   "metadata": {},
   "outputs": [
    {
     "name": "stdout",
     "output_type": "stream",
     "text": [
      "KruskalResult(statistic=9.696947935368053, pvalue=0.007840333026249539)\n",
      "P-Value is 0.19103526314060293\n",
      "Do not Reject Null Hypothesis (No significant difference in the median accuracy scores between the algorithms)\n"
     ]
    }
   ],
   "source": [
    "Algorithm_A = [0.85, 0.80, 0.82, 0.87, 0.83]\n",
    "Algorithm_B = [0.78, 0.82, 0.84, 0.80, 0.79]\n",
    "Algorithm_C = [0.90, 0.88, 0.89, 0.86, 0.87]\n",
    "\n",
    "from scipy import stats\n",
    "\n",
    "result = stats.kruskal(Algorithm_A, Algorithm_B, Algorithm_C)\n",
    "print(result)\n",
    "\n",
    "alpha=0.05\n",
    "print(f\"P-Value is {p}\")\n",
    "if p_value < alpha:\n",
    "    print('Reject Null Hypothesis (Significant difference in the median accuracy scores between the algorithms)')\n",
    "else:\n",
    "    print('Do not Reject Null Hypothesis (No significant difference in the median accuracy scores between the algorithms)')"
   ]
  },
  {
   "cell_type": "markdown",
   "id": "c5deab4e",
   "metadata": {},
   "source": [
    "**18. Scenario: A company wants to analyze the effect of price on sales. The data collected is as\n",
    "follows:**\n",
    "<aside>Price (in dollars): [10, 15, 12, 8, 14]</aside>\n",
    "<aside>Sales: [100, 80, 90, 110, 95]</aside>\n",
    "Perform a simple linear regression to predict sales based on price."
   ]
  },
  {
   "cell_type": "code",
   "execution_count": null,
   "id": "76ca3611",
   "metadata": {},
   "outputs": [],
   "source": []
  },
  {
   "cell_type": "markdown",
   "id": "19082a4f",
   "metadata": {},
   "source": [
    "**19. Scenario: A survey is conducted to measure the satisfaction levels of customers with a new\n",
    "product. The data collected is as follows:**\n",
    "<aside>[7, 8, 9, 6, 8, 7, 9, 7, 8, 7]</aside>\n",
    "Calculate the standard error of the mean satisfaction score."
   ]
  },
  {
   "cell_type": "code",
   "execution_count": 19,
   "id": "7606abda",
   "metadata": {},
   "outputs": [
    {
     "name": "stdout",
     "output_type": "stream",
     "text": [
      "Standard error of the mean satisfaction level of the customers is: 0.30550504633038933\n"
     ]
    }
   ],
   "source": [
    "from scipy.stats import sem\n",
    "data = [7, 8, 9, 6, 8, 7, 9, 7, 8, 7]\n",
    "res=sem(data)\n",
    "print(f\"Standard error of the mean satisfaction level of the customers is: {res}\")"
   ]
  },
  {
   "cell_type": "markdown",
   "id": "a58859d5",
   "metadata": {},
   "source": [
    "**20. Scenario: A company wants to analyze the relationship between advertising expenditure\n",
    "and sales. The data collected is as follows:**\n",
    "<aside>Advertising Expenditure (in thousands): [10, 15, 12, 8, 14]</aside>\n",
    "<aside>Sales (in thousands): [25, 30, 28, 20, 26]</aside>\n",
    "Perform a multiple regression analysis to predict sales based on advertising expenditure."
   ]
  },
  {
   "cell_type": "code",
   "execution_count": null,
   "id": "a44ee099",
   "metadata": {},
   "outputs": [],
   "source": []
  }
 ],
 "metadata": {
  "kernelspec": {
   "display_name": "Python 3 (ipykernel)",
   "language": "python",
   "name": "python3"
  },
  "language_info": {
   "codemirror_mode": {
    "name": "ipython",
    "version": 3
   },
   "file_extension": ".py",
   "mimetype": "text/x-python",
   "name": "python",
   "nbconvert_exporter": "python",
   "pygments_lexer": "ipython3",
   "version": "3.9.13"
  }
 },
 "nbformat": 4,
 "nbformat_minor": 5
}
