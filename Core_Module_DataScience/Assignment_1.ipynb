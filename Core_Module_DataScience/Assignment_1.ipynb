{
 "cells": [
  {
   "cell_type": "markdown",
   "id": "e14b11a3",
   "metadata": {},
   "source": [
    "1. Write a Python program to reverse a string without using any built-in string reversal functions."
   ]
  },
  {
   "cell_type": "code",
   "execution_count": 4,
   "id": "17751a9d",
   "metadata": {},
   "outputs": [
    {
     "name": "stdout",
     "output_type": "stream",
     "text": [
      "DOOBEE Doo word length\n",
      "htgnel drow ooD EEBOOD\n"
     ]
    }
   ],
   "source": [
    "class solution:\n",
    "    def revString(self):\n",
    "        word = input()\n",
    "        stri=''\n",
    "        for i in range(len(word)-1,-1,-1):\n",
    "            stri+=word[i]\n",
    "        return stri\n",
    "sol=solution()\n",
    "print(sol.revString())"
   ]
  },
  {
   "cell_type": "markdown",
   "id": "cc06098d",
   "metadata": {},
   "source": [
    "2. Implement a function to check if a given string is a palindrome."
   ]
  },
  {
   "cell_type": "code",
   "execution_count": 5,
   "id": "6714cb47",
   "metadata": {},
   "outputs": [
    {
     "name": "stdout",
     "output_type": "stream",
     "text": [
      "MAlayalam\n"
     ]
    },
    {
     "data": {
      "text/plain": [
       "'yes, a palindrome'"
      ]
     },
     "execution_count": 5,
     "metadata": {},
     "output_type": "execute_result"
    }
   ],
   "source": [
    "class check:\n",
    "    def palindrome(self):\n",
    "        word=input()\n",
    "        if word[::].lower()==word[::-1].lower():\n",
    "            return \"yes, a palindrome\"\n",
    "        else:\n",
    "            return \"Not a palindrome\"\n",
    "ch=check()\n",
    "ch.palindrome()"
   ]
  },
  {
   "cell_type": "markdown",
   "id": "416b2c23",
   "metadata": {},
   "source": [
    "3. Write a program to find the largest element in a given list."
   ]
  },
  {
   "cell_type": "code",
   "execution_count": 6,
   "id": "635387f8",
   "metadata": {},
   "outputs": [],
   "source": [
    "def larEle():\n",
    "    lst = list(map(int,input().split()))\n",
    "    t=lst[0]\n",
    "    for i in lst:\n",
    "        if t<i:\n",
    "            t=i\n",
    "    print(f'List elements are: {lst}')\n",
    "    return f'Largest element in the list is {t}'"
   ]
  },
  {
   "cell_type": "code",
   "execution_count": 7,
   "id": "63b4584e",
   "metadata": {},
   "outputs": [
    {
     "name": "stdout",
     "output_type": "stream",
     "text": [
      "32 12 0 -4 18 91 65 323 -2 4 1 21\n",
      "List elements are: [32, 12, 0, -4, 18, 91, 65, 323, -2, 4, 1, 21]\n",
      "Largest element in the list is 323\n"
     ]
    }
   ],
   "source": [
    "print(larEle())"
   ]
  },
  {
   "cell_type": "markdown",
   "id": "a179e541",
   "metadata": {},
   "source": [
    "4. Implement a function to count the occurrence of each element in a list."
   ]
  },
  {
   "cell_type": "code",
   "execution_count": 8,
   "id": "68280d2b",
   "metadata": {},
   "outputs": [],
   "source": [
    "def countEle():\n",
    "    lst=list(map(int,input().split()))\n",
    "    dict1={}\n",
    "    for i in lst:\n",
    "        if i in dict1:\n",
    "            dict1[i]+=1\n",
    "        else:\n",
    "            dict1[i]=1\n",
    "    print(dict1)\n",
    "    for k,v in dict1.items():\n",
    "        print(f\"{k} occures {v} times\")"
   ]
  },
  {
   "cell_type": "code",
   "execution_count": 9,
   "id": "57a72ada",
   "metadata": {},
   "outputs": [
    {
     "name": "stdout",
     "output_type": "stream",
     "text": [
      "1 1 1 1 3 3 3 3 2 2 4 5 1 2 3 1 6\n",
      "{1: 6, 3: 5, 2: 3, 4: 1, 5: 1, 6: 1}\n",
      "1 occures 6 times\n",
      "3 occures 5 times\n",
      "2 occures 3 times\n",
      "4 occures 1 times\n",
      "5 occures 1 times\n",
      "6 occures 1 times\n"
     ]
    }
   ],
   "source": [
    "countEle()"
   ]
  },
  {
   "cell_type": "markdown",
   "id": "afead1fc",
   "metadata": {},
   "source": [
    "5. Write a Python program to find the second largest number in a list."
   ]
  },
  {
   "cell_type": "code",
   "execution_count": 11,
   "id": "d019d6f2",
   "metadata": {},
   "outputs": [],
   "source": [
    "def secLargest():\n",
    "    lst=list(map(int,input().split()))\n",
    "    res=[]\n",
    "    while lst:\n",
    "        min=lst[0]\n",
    "        for i in lst:\n",
    "            if min>i:\n",
    "                min=i\n",
    "        res.append(min)\n",
    "        lst.remove(min)\n",
    "    return res[-2]"
   ]
  },
  {
   "cell_type": "code",
   "execution_count": 12,
   "id": "9566f140",
   "metadata": {},
   "outputs": [
    {
     "name": "stdout",
     "output_type": "stream",
     "text": [
      "1 2 3 4 5 6 7 -1 -3 0\n"
     ]
    },
    {
     "data": {
      "text/plain": [
       "6"
      ]
     },
     "execution_count": 12,
     "metadata": {},
     "output_type": "execute_result"
    }
   ],
   "source": [
    "secLargest()"
   ]
  },
  {
   "cell_type": "markdown",
   "id": "6c99033c",
   "metadata": {},
   "source": [
    "6. Implement a function to remove duplicate elements from a list."
   ]
  },
  {
   "cell_type": "code",
   "execution_count": 13,
   "id": "3d0b49af",
   "metadata": {},
   "outputs": [
    {
     "name": "stdout",
     "output_type": "stream",
     "text": [
      "The given list is: [1, 2, 3, 4, 3, 2, 5, 6, 5, 6, 7]\n",
      "After removing duplicate, the list is: [1, 2, 3, 4, 5, 6, 7]\n"
     ]
    }
   ],
   "source": [
    "def dupremoval():\n",
    "    list1 = [1,2,3,4,3,2,5,6,5,6,7]\n",
    "    print(f\"The given list is: {list1}\")\n",
    "    res=[]\n",
    "    [res.append(x) for x in list1 if x not in res]\n",
    "    \n",
    "    print(f\"After removing duplicate, the list is: {res}\")\n",
    "\n",
    "dupremoval()"
   ]
  },
  {
   "cell_type": "markdown",
   "id": "467642cd",
   "metadata": {},
   "source": [
    "7. Write a program to calculate the factorial of a given number."
   ]
  },
  {
   "cell_type": "code",
   "execution_count": 20,
   "id": "805ffa33",
   "metadata": {},
   "outputs": [],
   "source": [
    "def fact(num):\n",
    "    c=1\n",
    "    for i in range(1,num+1):\n",
    "        c=c*i\n",
    "    return f\"The factorial of given number:{num} is {c}\""
   ]
  },
  {
   "cell_type": "code",
   "execution_count": 21,
   "id": "1a158b29",
   "metadata": {},
   "outputs": [
    {
     "data": {
      "text/plain": [
       "'The factorial of given number:5 is 120'"
      ]
     },
     "execution_count": 21,
     "metadata": {},
     "output_type": "execute_result"
    }
   ],
   "source": [
    "fact(5)"
   ]
  },
  {
   "cell_type": "markdown",
   "id": "09b90ff5",
   "metadata": {},
   "source": [
    "8.Implement a function to check if a given number is prime."
   ]
  },
  {
   "cell_type": "code",
   "execution_count": 35,
   "id": "dad4a8ca",
   "metadata": {},
   "outputs": [
    {
     "name": "stdout",
     "output_type": "stream",
     "text": [
      "Enter a number:- 7\n",
      "7 is a prime number\n"
     ]
    }
   ],
   "source": [
    "def ifPrime():\n",
    "    num=int(input(\"Enter a number:- \"))\n",
    "    f=False\n",
    "    \n",
    "    if num<=1:\n",
    "        print(\"Not a prime number\")\n",
    "    elif num>1:\n",
    "        for i in range(2,num):\n",
    "            if num%i==0:\n",
    "                f=True\n",
    "                break\n",
    "    if f:\n",
    "        print(f\"{num} is not a prime number\")\n",
    "    else:\n",
    "        print(f\"{num} is a prime number\")\n",
    "\n",
    "ifPrime()"
   ]
  },
  {
   "cell_type": "markdown",
   "id": "53f26519",
   "metadata": {},
   "source": [
    "9.Write a Python program to sort a list of integers in ascending order."
   ]
  },
  {
   "cell_type": "code",
   "execution_count": 2,
   "id": "5e454ae9",
   "metadata": {},
   "outputs": [
    {
     "name": "stdout",
     "output_type": "stream",
     "text": [
      "0 1 2 3 48 98 23 -1 9\n",
      "List in ascending order: [-1, 0, 1, 2, 3, 9, 23, 48, 98]\n"
     ]
    }
   ],
   "source": [
    "def sortList():\n",
    "    list1 = list(map(int,input().split()))\n",
    "    t=0\n",
    "    for i in range(len(list1)):\n",
    "        for j in range(len(list1)):\n",
    "            if list1[i]<list1[j]:\n",
    "                t=list1[i]\n",
    "                list1[i]=list1[j]\n",
    "                list1[j]=t\n",
    "    print(f\"List in ascending order: {list1}\")\n",
    "\n",
    "sortList()"
   ]
  },
  {
   "cell_type": "markdown",
   "id": "cdc402d8",
   "metadata": {},
   "source": [
    "10.Implement a function to find the sum of all numbers in a list."
   ]
  },
  {
   "cell_type": "code",
   "execution_count": 3,
   "id": "16412682",
   "metadata": {},
   "outputs": [
    {
     "name": "stdout",
     "output_type": "stream",
     "text": [
      "1 2 3 4 5 6 7 8 0 -1 -2 -3\n",
      "Sum of all elements in the list: [1, 2, 3, 4, 5, 6, 7, 8, 0, -1, -2, -3] is 30\n"
     ]
    }
   ],
   "source": [
    "def sumList():\n",
    "    lst=list(map(int,input().split()))\n",
    "    sum=0\n",
    "    for i in lst:\n",
    "        sum+=i\n",
    "    print(f\"Sum of all elements in the list: {lst} is {sum}\")\n",
    "\n",
    "sumList()"
   ]
  },
  {
   "cell_type": "markdown",
   "id": "f68ace9a",
   "metadata": {},
   "source": [
    "11.Write a program to find the common elements between two lists."
   ]
  },
  {
   "cell_type": "code",
   "execution_count": 8,
   "id": "97ecde98",
   "metadata": {},
   "outputs": [
    {
     "name": "stdout",
     "output_type": "stream",
     "text": [
      "The common elements from [1, 2, 3, 4, 5, 6] and [2, 3, 4, 7, 8, 9] are:\n",
      "2 3 4 "
     ]
    }
   ],
   "source": [
    "list1 = [1,2,3,4,5,6]\n",
    "list2= [2,3,4,7,8,9]\n",
    "#Common elements = 2,3,4\n",
    "\n",
    "x= [i for i in list1 if i in list2]\n",
    "print(f\"The common elements from {list1} and {list2} are:\")\n",
    "for i in x:\n",
    "    print(i,end=' ')"
   ]
  },
  {
   "cell_type": "markdown",
   "id": "12adca91",
   "metadata": {},
   "source": [
    "12.Implement a function to check if a given string is an anagram of another string."
   ]
  },
  {
   "cell_type": "code",
   "execution_count": 37,
   "id": "7d13db32",
   "metadata": {},
   "outputs": [
    {
     "name": "stdout",
     "output_type": "stream",
     "text": [
      "pop\n",
      "opp\n",
      "Yes, anagrams\n"
     ]
    }
   ],
   "source": [
    "def anagramStr():\n",
    "    str1 = input()\n",
    "    str2 = input()\n",
    "    if sorted(str1)==sorted(str2):\n",
    "        print(\"Yes, anagrams\")\n",
    "    else:\n",
    "        print(\"Not anagrams\")\n",
    "\n",
    "anagramStr()"
   ]
  },
  {
   "cell_type": "markdown",
   "id": "c60373cc",
   "metadata": {},
   "source": [
    "13.Write a Python program to generate all permutations of a given string."
   ]
  },
  {
   "cell_type": "code",
   "execution_count": 42,
   "id": "f4d060c3",
   "metadata": {},
   "outputs": [
    {
     "name": "stdout",
     "output_type": "stream",
     "text": [
      "KUM\n",
      "KMU\n",
      "UKM\n",
      "UMK\n",
      "MUK\n",
      "MKU\n"
     ]
    }
   ],
   "source": [
    "def toString(list):\n",
    "    return ''.join(list)\n",
    "\n",
    "def allPermutation(s,l,p):#s=string,l=initial pointer & p=end pointer\n",
    "    if l==p:\n",
    "        print(toString(s))\n",
    "    else:\n",
    "        for i in range(l,p+1):\n",
    "            s[l],s[i]=s[i],s[l]\n",
    "            allPermutation(s,l+1,p)\n",
    "            s[l],s[i]=s[i],s[l]\n",
    "string = \"KUM\"\n",
    "n=len(string)\n",
    "s=list(string)\n",
    "allPermutation(s,0,n-1)"
   ]
  },
  {
   "cell_type": "markdown",
   "id": "29c855f3",
   "metadata": {},
   "source": [
    "14.Implement a function to calculate the Fibonacci sequence up to a given number of terms."
   ]
  },
  {
   "cell_type": "code",
   "execution_count": 55,
   "id": "dbfbc11b",
   "metadata": {},
   "outputs": [
    {
     "name": "stdout",
     "output_type": "stream",
     "text": [
      "Fibonacci Seq upto given sequence 5:-\n",
      "0 1 1 2 3 "
     ]
    }
   ],
   "source": [
    "def calFibo(n):\n",
    "    a,b=0,1\n",
    "    count=0\n",
    "    if n<0:\n",
    "        return \"Enter positive number.\"\n",
    "    elif n==0:\n",
    "        return 0\n",
    "    elif n==1:\n",
    "        return a,b\n",
    "    else:\n",
    "        print(f\"Fibonacci Seq upto given sequence {n}:-\")\n",
    "        while count<n:\n",
    "            print(a,end=' ')\n",
    "            c=a+b\n",
    "            a=b\n",
    "            b=c\n",
    "            count+=1\n",
    "            \n",
    "\n",
    "calFibo(5)"
   ]
  },
  {
   "cell_type": "markdown",
   "id": "1c655641",
   "metadata": {},
   "source": [
    "15.Write a program to find the median of a list of numbers."
   ]
  },
  {
   "cell_type": "code",
   "execution_count": 10,
   "id": "a0a7ada6",
   "metadata": {},
   "outputs": [
    {
     "name": "stdout",
     "output_type": "stream",
     "text": [
      "1 2 3 4 5 8 9 90 10\n",
      "The given list is [1, 2, 3, 4, 5, 8, 9, 10, 90] which has 9 elements\n",
      "The median of the elements from the given list is: 5\n"
     ]
    }
   ],
   "source": [
    "def findMedian():\n",
    "    lst=list(map(int,input().split()))\n",
    "    lst=sorted(lst)\n",
    "    n=len(lst)\n",
    "    print(f\"The given list is {lst} which has {n} elements\")\n",
    "    if len(lst)%2==0:\n",
    "        median=( lst[n//2-1]+ lst[n//2] ) /2\n",
    "    else:\n",
    "        median = lst[n//2]\n",
    "    return f\"The median of the elements from the given list is: {median}\"\n",
    "\n",
    "print(findMedian())\n",
    "        "
   ]
  },
  {
   "cell_type": "markdown",
   "id": "7b6f4494",
   "metadata": {},
   "source": [
    "16.Implement a function to check if a given list is sorted in non-decreasing order."
   ]
  },
  {
   "cell_type": "code",
   "execution_count": 15,
   "id": "bf9c25e0",
   "metadata": {},
   "outputs": [
    {
     "name": "stdout",
     "output_type": "stream",
     "text": [
      "1 2 3 4 5 6\n",
      "Yes\n"
     ]
    }
   ],
   "source": [
    "def checkDec():\n",
    "    lst=list(map(int,input().split()))\n",
    "    f=0\n",
    "    if lst==sorted(lst):\n",
    "        f=1\n",
    "    if f:\n",
    "        print(\"Yes\")\n",
    "    else:\n",
    "        print(\"No\")\n",
    "\n",
    "checkDec()"
   ]
  },
  {
   "cell_type": "markdown",
   "id": "a75dea7c",
   "metadata": {},
   "source": [
    "17.Write a Python program to find the intersection of two lists."
   ]
  },
  {
   "cell_type": "code",
   "execution_count": 19,
   "id": "4b9e7519",
   "metadata": {},
   "outputs": [
    {
     "name": "stdout",
     "output_type": "stream",
     "text": [
      "1 2 3 4 5\n",
      "2 3 4 5 6 7 8\n",
      "[2, 3, 4, 5]\n"
     ]
    }
   ],
   "source": [
    "def findIntersection():\n",
    "    lst1=list(map(int,input().split()))\n",
    "    lst2=list(map(int,input().split()))\n",
    "    count=[]\n",
    "    count=[x for x in lst1 if x in lst2]\n",
    "    print(count)\n",
    "findIntersection()"
   ]
  },
  {
   "cell_type": "markdown",
   "id": "2b2e46d1",
   "metadata": {},
   "source": [
    "18.Implement a function to find the maximum subarray sum in a given list."
   ]
  },
  {
   "cell_type": "code",
   "execution_count": 22,
   "id": "c1990236",
   "metadata": {},
   "outputs": [
    {
     "name": "stdout",
     "output_type": "stream",
     "text": [
      "[-2, 1, -2, 7, 5, 7, 8, 3, 7]\n",
      "8\n"
     ]
    }
   ],
   "source": [
    "class Solution(object):\n",
    "    def maxSubArray(self, nums):\n",
    "        dp = [0 for i in range(len(nums))]\n",
    "        dp[0] = nums[0]\n",
    "        for i in range(1,len(nums)):\n",
    "            dp[i] = max(dp[i-1]+nums[i],nums[i])\n",
    "        print(dp)\n",
    "        return max(dp)\n",
    "nums = [-2,1,-3,7,-2,2,1,-5,4]\n",
    "ob1 = Solution()\n",
    "print(ob1.maxSubArray(nums))"
   ]
  },
  {
   "cell_type": "markdown",
   "id": "7c9d4cf7",
   "metadata": {},
   "source": [
    "19.Write a program to remove all vowels from a given string."
   ]
  },
  {
   "cell_type": "code",
   "execution_count": 7,
   "id": "978b01f6",
   "metadata": {},
   "outputs": [
    {
     "name": "stdout",
     "output_type": "stream",
     "text": [
      "aeiouy\n",
      "y\n"
     ]
    }
   ],
   "source": [
    "def removeVowels():\n",
    "    vowels=['a','e','i','o','u']\n",
    "    string=list(input().lower())\n",
    "    result=[char for char in string if char not in vowels]\n",
    "    result=''.join(result)\n",
    "    print(result)\n",
    "            \n",
    "    \n",
    "\n",
    "removeVowels()"
   ]
  },
  {
   "cell_type": "markdown",
   "id": "c1e7b446",
   "metadata": {},
   "source": [
    "20.Implement a function to reverse the order of words in a given sentence."
   ]
  },
  {
   "cell_type": "code",
   "execution_count": 30,
   "id": "86991816",
   "metadata": {},
   "outputs": [
    {
     "name": "stdout",
     "output_type": "stream",
     "text": [
      "My name is Shanu\n"
     ]
    }
   ],
   "source": [
    "def reverseOrderOfString(x):\n",
    "    s = string.split()[::-1]\n",
    "    l = []\n",
    "    for i in s:\n",
    "        l.append(i)\n",
    "    print(\" \".join(l))\n",
    "    \n",
    "string = \"Shanu is name My\"\n",
    "reverseOrderOfString(string)"
   ]
  },
  {
   "cell_type": "markdown",
   "id": "c792b8fe",
   "metadata": {},
   "source": [
    "21. Write a Python program to check if two strings are anagrams of each other."
   ]
  },
  {
   "cell_type": "code",
   "execution_count": 36,
   "id": "7aa7ce53",
   "metadata": {},
   "outputs": [
    {
     "name": "stdout",
     "output_type": "stream",
     "text": [
      "word\n",
      "WRDO\n",
      "Yes they are anagrams\n"
     ]
    }
   ],
   "source": [
    "from collections import Counter\n",
    "\n",
    "string1=input().lower()\n",
    "string2=input().lower()\n",
    "\n",
    "if Counter(string1)==Counter(string2):\n",
    "    print(\"Yes they are anagrams\")\n",
    "else:\n",
    "    print(\"They are not anagrams\")"
   ]
  },
  {
   "cell_type": "markdown",
   "id": "f6c4d9b9",
   "metadata": {},
   "source": [
    "22. Implement a function to find the first non-repeating character in a string."
   ]
  },
  {
   "cell_type": "code",
   "execution_count": 39,
   "id": "6da77927",
   "metadata": {},
   "outputs": [
    {
     "name": "stdout",
     "output_type": "stream",
     "text": [
      "potato\n",
      "First non-repeating character is p\n"
     ]
    }
   ],
   "source": [
    "def firstNonRepeating():\n",
    "    string=input()\n",
    "    fnc=''\n",
    "    index=-1\n",
    "    \n",
    "    if len(string)==0:\n",
    "        print(\"Empty string\")\n",
    "        \n",
    "    for i in string:\n",
    "        if string.count(i)==1:\n",
    "            fnc+=i\n",
    "            break\n",
    "        else:\n",
    "            index+=1\n",
    "    if index == len(string)-1 :\n",
    "        print(\"All characters are repeating \")\n",
    "    else:\n",
    "        print(\"First non-repeating character is\", fnc)\n",
    "        \n",
    "firstNonRepeating()"
   ]
  },
  {
   "cell_type": "markdown",
   "id": "0e78d4c7",
   "metadata": {},
   "source": [
    "23. Write a program to find the prime factors of a given number."
   ]
  },
  {
   "cell_type": "code",
   "execution_count": 73,
   "id": "bfae428b",
   "metadata": {},
   "outputs": [
    {
     "name": "stdout",
     "output_type": "stream",
     "text": [
      "2\n",
      "2\n",
      "5\n",
      "5\n"
     ]
    }
   ],
   "source": [
    "import math\n",
    "\n",
    "def primeFactor(num):\n",
    "    while num % 2 == 0:  \n",
    "        print(2)  \n",
    "        num = num // 2\n",
    "    for i in range(3, int(math.sqrt(num)) + 1, 2):\n",
    "        while num % i == 0:  \n",
    "            print(i)  \n",
    "            num = num // i  \n",
    "    if num > 2:  \n",
    "        print(num)   \n",
    "\n",
    "num=100\n",
    "primeFactor(num)"
   ]
  },
  {
   "cell_type": "markdown",
   "id": "ab705940",
   "metadata": {},
   "source": [
    "24. Implement a function to check if a given number is a power of two."
   ]
  },
  {
   "cell_type": "code",
   "execution_count": 76,
   "id": "b5521f86",
   "metadata": {},
   "outputs": [
    {
     "name": "stdout",
     "output_type": "stream",
     "text": [
      "True\n",
      "False\n"
     ]
    }
   ],
   "source": [
    "def isPowerOfTwo(n):\n",
    "    if (n == 0):\n",
    "        return False\n",
    "    while (n != 1):\n",
    "            if (n % 2 != 0):\n",
    "                return False\n",
    "            n = n // 2\n",
    "             \n",
    "    return True\n",
    "\n",
    "print(isPowerOfTwo(32))\n",
    "print(isPowerOfTwo(31))"
   ]
  },
  {
   "cell_type": "markdown",
   "id": "3891b0f9",
   "metadata": {},
   "source": [
    "25. Write a Python program to merge two sorted lists into a single sorted list."
   ]
  },
  {
   "cell_type": "code",
   "execution_count": 78,
   "id": "63d6bcaf",
   "metadata": {},
   "outputs": [
    {
     "name": "stdout",
     "output_type": "stream",
     "text": [
      "The original list 1 is : [1, 5, 6, 9, 11]\n",
      "The original list 2 is : [3, 4, 7, 8, 10]\n",
      "The combined sorted list is : [1, 3, 4, 5, 6, 7, 8, 9, 10, 11]\n"
     ]
    }
   ],
   "source": [
    "list1 = [1, 5, 6, 9, 11]\n",
    "list2 = [3, 4, 7, 8, 10]\n",
    "\n",
    "print(\"The original list 1 is : \" + str(list1))\n",
    "print(\"The original list 2 is : \" + str(list2))\n",
    " \n",
    "list1.extend(list2)\n",
    "list1.sort()\n",
    "\n",
    "print(\"The combined sorted list is : \" + str(list1))"
   ]
  },
  {
   "cell_type": "markdown",
   "id": "a27eeec9",
   "metadata": {},
   "source": [
    "26. Implement a function to find the mode of a list of numbers."
   ]
  },
  {
   "cell_type": "code",
   "execution_count": 80,
   "id": "fdf421a2",
   "metadata": {},
   "outputs": [
    {
     "data": {
      "text/plain": [
       "1"
      ]
     },
     "execution_count": 80,
     "metadata": {},
     "output_type": "execute_result"
    }
   ],
   "source": [
    "def modeList(lst):\n",
    "    res = max(set(lst) , key=lst.count)\n",
    "    return res\n",
    "\n",
    "lsit1 = [1,1,1,1,3,4,4,4,5,6,3,2,7]\n",
    "modeList(list1)"
   ]
  },
  {
   "cell_type": "markdown",
   "id": "ecf55940",
   "metadata": {},
   "source": [
    "27. Write a program to find the greatest common divisor (GCD) of two numbers."
   ]
  },
  {
   "cell_type": "code",
   "execution_count": 81,
   "id": "1c76d2ff",
   "metadata": {},
   "outputs": [
    {
     "data": {
      "text/plain": [
       "12"
      ]
     },
     "execution_count": 81,
     "metadata": {},
     "output_type": "execute_result"
    }
   ],
   "source": [
    "def gcdTwonumber(a,b):\n",
    "    if b==0:\n",
    "        return a\n",
    "    else:\n",
    "        return gcdTwonumber(b,a%b)\n",
    "    \n",
    "a,b=24,36\n",
    "gcdTwonumber(a,b)"
   ]
  },
  {
   "cell_type": "markdown",
   "id": "6439cae5",
   "metadata": {},
   "source": [
    "28. Implement a function to calculate the square root of a given number."
   ]
  },
  {
   "cell_type": "code",
   "execution_count": 90,
   "id": "f7b891fc",
   "metadata": {},
   "outputs": [
    {
     "name": "stdout",
     "output_type": "stream",
     "text": [
      "64\n",
      "The square root of 64 is 8.000\n"
     ]
    }
   ],
   "source": [
    "def squareRoot():\n",
    "    num = int(input())\n",
    "    sqrt = num**0.5\n",
    "    print(\"The square root of %s is %0.3f\"%(num,sqrt))\n",
    "squareRoot()"
   ]
  },
  {
   "cell_type": "markdown",
   "id": "f8a8e1ae",
   "metadata": {},
   "source": [
    "29. Write a Python program to check if a given string is a valid palindrome ignoring non-alphanumeric characters."
   ]
  },
  {
   "cell_type": "code",
   "execution_count": 18,
   "id": "8f710070",
   "metadata": {},
   "outputs": [
    {
     "name": "stdout",
     "output_type": "stream",
     "text": [
      "Mala****@%^yala___m\n",
      "malayalam\n",
      "Yes a palindrome\n"
     ]
    }
   ],
   "source": [
    "def checkPalindrome():\n",
    "    string1=input().lower()\n",
    "    characters = \"\"\"~`!@#$%^&*()-_+={}[]|\\/:;\"'<>,.?\"\"\"\n",
    "    string2=''\n",
    "    for i in string1:\n",
    "        if i not in characters:\n",
    "            string2+=i\n",
    "    print(string2)\n",
    "    if string2[::-1]==string2[::]:\n",
    "        print(\"Yes a palindrome\")\n",
    "    else:\n",
    "        print(\"Not a palindrome\")\n",
    "\n",
    "checkPalindrome()"
   ]
  },
  {
   "cell_type": "markdown",
   "id": "5a679fe2",
   "metadata": {},
   "source": [
    "30. Implement a function to find the minimum element in a rotated sorted list."
   ]
  },
  {
   "cell_type": "code",
   "execution_count": 6,
   "id": "57f7e26b",
   "metadata": {},
   "outputs": [
    {
     "data": {
      "text/plain": [
       "2"
      ]
     },
     "execution_count": 6,
     "metadata": {},
     "output_type": "execute_result"
    }
   ],
   "source": [
    "def minEleRotatedList(lst,n):\n",
    "    l=0\n",
    "    r=n-1\n",
    "    while l<r:\n",
    "        if lst[l]<lst[r]:\n",
    "            return lst[l]\n",
    "        mid= l + (r-1)//2\n",
    "        if lst[mid]>lst[r]:\n",
    "            l=mid+1\n",
    "        else:\n",
    "            r=mid\n",
    "    return lst[l]\n",
    "\n",
    "lst = [9,8,2,3,4,5,6,7]\n",
    "minEleRotatedList(lst,len(lst))"
   ]
  },
  {
   "cell_type": "markdown",
   "id": "21197b3d",
   "metadata": {},
   "source": [
    "31. Write a program to find the sum of all even numbers in a list."
   ]
  },
  {
   "cell_type": "code",
   "execution_count": 19,
   "id": "8e10cdec",
   "metadata": {},
   "outputs": [
    {
     "name": "stdout",
     "output_type": "stream",
     "text": [
      "1 2 3 4 5 6 7 8 9 10\n"
     ]
    },
    {
     "data": {
      "text/plain": [
       "30"
      ]
     },
     "execution_count": 19,
     "metadata": {},
     "output_type": "execute_result"
    }
   ],
   "source": [
    "def sumEven():\n",
    "    lst = list(map(int,input().split()))\n",
    "    sum=0\n",
    "    for i in lst:\n",
    "        if i%2==0:\n",
    "            sum+=i\n",
    "            \n",
    "    return sum\n",
    "\n",
    "sumEven()"
   ]
  },
  {
   "cell_type": "markdown",
   "id": "829e0720",
   "metadata": {},
   "source": [
    "32. Implement a function to calculate the power of a number using recursion."
   ]
  },
  {
   "cell_type": "code",
   "execution_count": 4,
   "id": "ce6d0c1a",
   "metadata": {},
   "outputs": [
    {
     "name": "stdout",
     "output_type": "stream",
     "text": [
      "125\n"
     ]
    }
   ],
   "source": [
    "def powerNumber(N, P):\n",
    "    if P == 0:\n",
    "        return 1\n",
    "    return (N*power(N, P-1))\n",
    "\n",
    "print(powerNumber(5,3))"
   ]
  },
  {
   "cell_type": "markdown",
   "id": "1a7c0ac8",
   "metadata": {},
   "source": [
    "33. Write a Python program to remove duplicates from a list while preserving the order."
   ]
  },
  {
   "cell_type": "code",
   "execution_count": 5,
   "id": "db6e40b7",
   "metadata": {},
   "outputs": [
    {
     "data": {
      "text/plain": [
       "[1, 3, 4, 5, 6, 2, 7]"
      ]
     },
     "execution_count": 5,
     "metadata": {},
     "output_type": "execute_result"
    }
   ],
   "source": [
    "from collections import OrderedDict\n",
    "def remove_duplicates(lst):\n",
    "    return list(OrderedDict.fromkeys(lst))\n",
    "\n",
    "remove_duplicates([1,1,3,4,5,6,4,3,2,7])"
   ]
  },
  {
   "cell_type": "markdown",
   "id": "78bc3404",
   "metadata": {},
   "source": [
    "34. Implement a function to find the longest common prefix among a list of strings."
   ]
  },
  {
   "cell_type": "code",
   "execution_count": 7,
   "id": "d63b7d0d",
   "metadata": {},
   "outputs": [
    {
     "data": {
      "text/plain": [
       "'kum'"
      ]
     },
     "execution_count": 7,
     "metadata": {},
     "output_type": "execute_result"
    }
   ],
   "source": [
    "def longestCommonPrefix(a):\n",
    "    size = len(a)\n",
    "    \n",
    "    if (size == 0):\n",
    "        return \"\"\n",
    "    if (size == 1):\n",
    "        return a[0]\n",
    "    a.sort()\n",
    "    \n",
    "    end = min(len(a[0]), len(a[size - 1]))\n",
    "    \n",
    "    i = 0\n",
    "    while (i < end and a[0][i] == a[size - 1][i]):\n",
    "        i += 1\n",
    "    pre = a[0][0: i]\n",
    "    return pre\n",
    "\n",
    "longestCommonPrefix([\"kumar\", \"kumakl\",\"kumor\"])"
   ]
  },
  {
   "cell_type": "markdown",
   "id": "957cf9b4",
   "metadata": {},
   "source": [
    "35. Write a program to check if a given number is a perfect square."
   ]
  },
  {
   "cell_type": "code",
   "execution_count": 12,
   "id": "3fe6085c",
   "metadata": {},
   "outputs": [
    {
     "name": "stdout",
     "output_type": "stream",
     "text": [
      "Yes, a perfect square\n"
     ]
    }
   ],
   "source": [
    "def perfectSquare(num):\n",
    "    for i in range(num+1):\n",
    "        if i**2==num:\n",
    "            print(\"Yes, a perfect square\")\n",
    "            break\n",
    "    else:\n",
    "        print(\"Not a perfect square\")\n",
    "perfectSquare(25)"
   ]
  },
  {
   "cell_type": "code",
   "execution_count": 16,
   "id": "9985a14e",
   "metadata": {},
   "outputs": [
    {
     "name": "stdout",
     "output_type": "stream",
     "text": [
      "No\n"
     ]
    }
   ],
   "source": [
    "import math\n",
    "\n",
    "def isPerfectSquare(x):\n",
    "    if(x >= 0):\n",
    "        sr = int(math.sqrt(x))\n",
    "        return ((sr*sr) == x)\n",
    "    return false\n",
    "\n",
    "x=11\n",
    "if isPerfectSquare(x):\n",
    "    print(\"Yes\")\n",
    "else:\n",
    "    print(\"No\")"
   ]
  },
  {
   "cell_type": "markdown",
   "id": "ea0c29be",
   "metadata": {},
   "source": [
    "36. Implement a function to calculate the product of all elements in a list."
   ]
  },
  {
   "cell_type": "code",
   "execution_count": 18,
   "id": "bd53bbc5",
   "metadata": {},
   "outputs": [
    {
     "data": {
      "text/plain": [
       "120"
      ]
     },
     "execution_count": 18,
     "metadata": {},
     "output_type": "execute_result"
    }
   ],
   "source": [
    "def calcProduct(list1):\n",
    "    cross=1\n",
    "    for i in list1:\n",
    "        cross*=i\n",
    "    return cross\n",
    "\n",
    "calcProduct([1,2,3,4,5])"
   ]
  },
  {
   "cell_type": "markdown",
   "id": "550091bd",
   "metadata": {},
   "source": [
    "37. Write a Python program to reverse the order of words in a sentence while preserving the word order."
   ]
  },
  {
   "cell_type": "code",
   "execution_count": null,
   "id": "6a5f80b9",
   "metadata": {},
   "outputs": [],
   "source": []
  },
  {
   "cell_type": "markdown",
   "id": "15405d25",
   "metadata": {},
   "source": [
    "38. Implement a function to find the missing number in a given list of consecutive numbers."
   ]
  },
  {
   "cell_type": "code",
   "execution_count": 23,
   "id": "c0e02e22",
   "metadata": {},
   "outputs": [
    {
     "data": {
      "text/plain": [
       "3"
      ]
     },
     "execution_count": 23,
     "metadata": {},
     "output_type": "execute_result"
    }
   ],
   "source": [
    "def findMissing(arr, n):\n",
    "    l,h=0,n-1\n",
    "    mid=0\n",
    "    while (h > l):\n",
    "        mid = l + (h - l) // 2\n",
    "        if (arr[mid] - mid == arr[0]):\n",
    "            if (arr[mid + 1] - arr[mid] > 1):\n",
    "                return arr[mid] + 1\n",
    "            else:\n",
    "                l = mid + 1\n",
    "        else:\n",
    "            if (arr[mid] - arr[mid - 1] > 1):\n",
    "                return arr[mid] - 1\n",
    "            else:\n",
    "                h = mid - 1\n",
    "    return -1\n",
    "\n",
    "list1=[1,2,4,5,6,7]\n",
    "findMissing(list1,len(list1))"
   ]
  },
  {
   "cell_type": "markdown",
   "id": "a8f0ead8",
   "metadata": {},
   "source": [
    "39. Write a program to find the sum of digits of a given number."
   ]
  },
  {
   "cell_type": "code",
   "execution_count": 27,
   "id": "2f73ed09",
   "metadata": {},
   "outputs": [
    {
     "name": "stdout",
     "output_type": "stream",
     "text": [
      "15\n"
     ]
    }
   ],
   "source": [
    "def sumofDigit(num):\n",
    "    sum=0\n",
    "    while(num!=0):       \n",
    "        sum=sum +(num%10)\n",
    "        num=num//10\n",
    "    return sum\n",
    "\n",
    "n = 12345\n",
    "print(sumofDigit(n))"
   ]
  },
  {
   "cell_type": "markdown",
   "id": "143a3444",
   "metadata": {},
   "source": [
    "40. Implement a function to check if a given string is a valid palindrome considering case sensitivity."
   ]
  },
  {
   "cell_type": "code",
   "execution_count": null,
   "id": "f0405b82",
   "metadata": {},
   "outputs": [],
   "source": []
  },
  {
   "cell_type": "markdown",
   "id": "8b1039b8",
   "metadata": {},
   "source": [
    "41. Write a Python program to find the smallest missing positive integer in a list."
   ]
  },
  {
   "cell_type": "code",
   "execution_count": 33,
   "id": "afd61e78",
   "metadata": {},
   "outputs": [
    {
     "data": {
      "text/plain": [
       "7"
      ]
     },
     "execution_count": 33,
     "metadata": {},
     "output_type": "execute_result"
    }
   ],
   "source": [
    "def smallestMissingPositive(X,n):\n",
    "    for i in range(1,n+2):\n",
    "        miss=True\n",
    "        for j in range(n):\n",
    "            if X[j]==i:\n",
    "                miss=False\n",
    "                break\n",
    "        if miss:\n",
    "            return i\n",
    "X=[1,2,3,4,5,6,8,9]\n",
    "n=len(X)\n",
    "\n",
    "smallestMissingPositive(X,n)"
   ]
  },
  {
   "cell_type": "markdown",
   "id": "b9016142",
   "metadata": {},
   "source": [
    "42. Implement a function to find the longest palindrome substring in a given string."
   ]
  },
  {
   "cell_type": "code",
   "execution_count": 45,
   "id": "689e5db1",
   "metadata": {},
   "outputs": [
    {
     "name": "stdout",
     "output_type": "stream",
     "text": [
      "Longest palindrome substring is: abcdcba\n",
      "Length of substring: 7\n"
     ]
    }
   ],
   "source": [
    "def printSubStr(s, low, high):\n",
    "    for i in range(low, high + 1):\n",
    "        print(s[i], end=\"\")\n",
    "    print()\n",
    "\n",
    "def longestPalSubstr(s):\n",
    "    n = len(s)\n",
    "    start = 0\n",
    "    end = 1\n",
    "    for i in range(n):\n",
    "        low = i - 1\n",
    "        hi = i\n",
    "        while low >= 0 and hi < n and s[low] == s[hi]:\n",
    "            if hi - low + 1 > end:\n",
    "                start = low\n",
    "                end = hi - low + 1\n",
    "            low -= 1\n",
    "            hi += 1\n",
    "            \n",
    "        low = i - 1\n",
    "        hi = i + 1\n",
    "        while low >= 0 and hi < n and s[low] == s[hi]:\n",
    "            if hi - low + 1 > end:\n",
    "                start = low\n",
    "                end = hi - low + 1\n",
    "            low -= 1\n",
    "            hi += 1\n",
    "    print(\"Longest palindrome substring is: \", end=\"\")\n",
    "    printSubStr(s, start, start + end - 1)\n",
    "    return end\n",
    "\n",
    "lon = longestPalSubstr(\"abcdcbabh\")\n",
    "print(\"Length of substring:\", lon)"
   ]
  },
  {
   "cell_type": "markdown",
   "id": "a8919bbf",
   "metadata": {},
   "source": [
    "43. Write a program to find the number of occurrences of a given element in a list."
   ]
  },
  {
   "cell_type": "code",
   "execution_count": 39,
   "id": "e1ea45e5",
   "metadata": {},
   "outputs": [
    {
     "data": {
      "text/plain": [
       "'1 occurs 4 number of times in the given list:[1, 1, 1, 1, 3, 4, 5, 6, 7, 8, 9, 10]'"
      ]
     },
     "execution_count": 39,
     "metadata": {},
     "output_type": "execute_result"
    }
   ],
   "source": [
    "def countOccurences(list1,ele):\n",
    "    count=0\n",
    "    for i in list1:\n",
    "        if i==ele:\n",
    "            count+=1\n",
    "    return f\"{ele} occurs {count} number of times in the given list:{list1}\"\n",
    "\n",
    "list1 = [1,1,1,1,3,4,5,6,7,8,9,10]\n",
    "countOccurences(list1,1)"
   ]
  },
  {
   "cell_type": "markdown",
   "id": "528167ab",
   "metadata": {},
   "source": [
    "44. Implement a function to check if a given number is a perfect number."
   ]
  },
  {
   "cell_type": "code",
   "execution_count": 22,
   "id": "b9950cd1",
   "metadata": {},
   "outputs": [
    {
     "name": "stdout",
     "output_type": "stream",
     "text": [
      "Enter the number: 6\n",
      "6 is a perfect number\n"
     ]
    }
   ],
   "source": [
    "def perfectNumber():\n",
    "    num=int(input(\"Enter the number: \"))  \n",
    "    sum=0  \n",
    "    for i in range(1,num):  \n",
    "        if (num%i==0):  \n",
    "            sum=sum+i  \n",
    "    if(sum==num):  \n",
    "        print(f\"{num} is a perfect number\")  \n",
    "    else:  \n",
    "        print(f\"{num} is not a perfect number\")\n",
    "perfectNumber()"
   ]
  },
  {
   "cell_type": "markdown",
   "id": "23547b15",
   "metadata": {},
   "source": [
    "45. Write a Python program to remove all duplicates from a string."
   ]
  },
  {
   "cell_type": "code",
   "execution_count": 20,
   "id": "1b5d7547",
   "metadata": {},
   "outputs": [
    {
     "data": {
      "text/plain": [
       "'SHANU'"
      ]
     },
     "execution_count": 20,
     "metadata": {},
     "output_type": "execute_result"
    }
   ],
   "source": [
    "def removeDup(s):\n",
    "    t=''\n",
    "    for i in s:\n",
    "        if i not in t:\n",
    "            t+=i\n",
    "    return t\n",
    "removeDup(\"SSHANU\")"
   ]
  },
  {
   "cell_type": "markdown",
   "id": "ab6828f1",
   "metadata": {},
   "source": [
    "46. Implement a function to find the first missing positive"
   ]
  },
  {
   "cell_type": "code",
   "execution_count": 32,
   "id": "7b3fff37",
   "metadata": {},
   "outputs": [
    {
     "data": {
      "text/plain": [
       "1"
      ]
     },
     "execution_count": 32,
     "metadata": {},
     "output_type": "execute_result"
    }
   ],
   "source": [
    "def firstMissingPositive(X,n):\n",
    "    for i in range(1,n+2):\n",
    "        miss_flag = True\n",
    "        for j in range(n):\n",
    "            if X[j]==i:\n",
    "                miss_flag=False\n",
    "                break\n",
    "        if miss_flag:\n",
    "            return i\n",
    "list1 = [-1,0,2,3,4,5]\n",
    "firstMissingPositive(list1,len(list1))"
   ]
  },
  {
   "cell_type": "code",
   "execution_count": null,
   "id": "654253c2",
   "metadata": {},
   "outputs": [],
   "source": []
  }
 ],
 "metadata": {
  "kernelspec": {
   "display_name": "Python 3 (ipykernel)",
   "language": "python",
   "name": "python3"
  },
  "language_info": {
   "codemirror_mode": {
    "name": "ipython",
    "version": 3
   },
   "file_extension": ".py",
   "mimetype": "text/x-python",
   "name": "python",
   "nbconvert_exporter": "python",
   "pygments_lexer": "ipython3",
   "version": "3.9.13"
  }
 },
 "nbformat": 4,
 "nbformat_minor": 5
}
